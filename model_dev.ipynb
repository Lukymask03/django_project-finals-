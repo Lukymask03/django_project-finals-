{
 "cells": [
  {
   "cell_type": "code",
   "execution_count": 1,
   "id": "f8e448be",
   "metadata": {},
   "outputs": [
    {
     "name": "stdout",
     "output_type": "stream",
     "text": [
      "Raw Column Names: ['name', 'reign', 'days', 'date', 'event', 'location', 'link', 'belt', 'date_of_birth', 'date_of_death', 'cause_of_death']\n",
      "'belt' column exists, proceeding with cleaning...\n"
     ]
    },
    {
     "name": "stderr",
     "output_type": "stream",
     "text": [
      "C:\\Users\\RAMSES\\AppData\\Local\\Temp\\ipykernel_20064\\843849783.py:38: UserWarning: Could not infer format, so each element will be parsed individually, falling back to `dateutil`. To ensure parsing is consistent and as-expected, please specify a format.\n",
      "  df['reign_start'] = pd.to_datetime(df['date'], errors='coerce')\n"
     ]
    },
    {
     "name": "stdout",
     "output_type": "stream",
     "text": [
      "Data cleaned and saved to 'cleaned_wrestling_data.csv'\n"
     ]
    }
   ],
   "source": [
    "import pandas as pd\n",
    "import numpy as np\n",
    "\n",
    "# Load your data\n",
    "df = pd.read_csv('data.csv')\n",
    "\n",
    "# Display raw column names\n",
    "print(\"Raw Column Names:\", df.columns.tolist())\n",
    "\n",
    "# Clean column names\n",
    "df.columns = df.columns.str.strip().str.lower().str.replace(' ', '_')\n",
    "\n",
    "# Keep only the relevant columns\n",
    "relevant_columns = [\n",
    "    'name', 'reign', 'days', 'date', 'event', 'location', 'link', 'belt',\n",
    "    'date_of_birth', 'date_of_death', 'cause_of_death'\n",
    "]\n",
    "df = df[[col for col in relevant_columns if col in df.columns]]\n",
    "\n",
    "# Check for required 'belt' column\n",
    "if 'belt' not in df.columns:\n",
    "    print(\"Error: 'belt' column not found. Available columns:\", df.columns)\n",
    "    exit()\n",
    "else:\n",
    "    print(\"'belt' column exists, proceeding with cleaning...\")\n",
    "\n",
    "# Filter to only relevant titles\n",
    "target_titles = [\n",
    "    \"wwe championship\",\n",
    "    \"wwe us championship\",\n",
    "    \"wwe women's championship\",\n",
    "    \"wwe raw women's championship\",\n",
    "    \"wwe smackdown women's championship\"\n",
    "]\n",
    "df = df[df['belt'].str.lower().isin(target_titles)]\n",
    "\n",
    "# Convert date columns\n",
    "df['reign_start'] = pd.to_datetime(df['date'], errors='coerce')\n",
    "df['reign_end'] = pd.to_datetime(df['reign'], errors='coerce')  # Assuming 'reign' holds end date\n",
    "\n",
    "# Fill ongoing reigns with today's date\n",
    "today = pd.to_datetime(\"today\")\n",
    "df['reign_end'] = df['reign_end'].fillna(today)\n",
    "\n",
    "# Calculate duration of reigns\n",
    "df['reign_duration'] = (df['reign_end'] - df['reign_start']).dt.days\n",
    "\n",
    "# Sort and calculate gap between reigns\n",
    "df = df.sort_values(by=['name', 'reign_start'])\n",
    "df['prev_reign_end'] = df.groupby('name')['reign_end'].shift(1)\n",
    "df['gap_between_reigns'] = (df['reign_start'] - df['prev_reign_end']).dt.days\n",
    "\n",
    "# Aggregate core summary features\n",
    "summary = (\n",
    "    df.groupby(['name', 'belt'])\n",
    "    .agg(\n",
    "        total_reigns=('belt', 'count'),\n",
    "        total_days_as_champion=('reign_duration', 'sum'),\n",
    "        average_reign_duration=('reign_duration', 'mean'),\n",
    "        longest_single_reign=('reign_duration', 'max'),\n",
    "        shortest_single_reign=('reign_duration', 'min'),\n",
    "        most_recent_reign=('reign_start', 'max'),\n",
    "        first_reign=('reign_start', 'min'),\n",
    "        most_recent_reign_end=('reign_end', 'max')\n",
    "    )\n",
    "    .reset_index()\n",
    ")\n",
    "\n",
    "# Additional metrics\n",
    "summary['days_since_last_reign'] = (today - summary['most_recent_reign']).dt.days\n",
    "title_diversity = df.groupby('name')['belt'].nunique().reset_index(name='title_diversity')\n",
    "avg_gap = df.groupby('name')['gap_between_reigns'].mean().reset_index(name='avg_gap_between_reigns')\n",
    "\n",
    "career_span = (\n",
    "    df.groupby('name')\n",
    "    .agg(first_title_date=('reign_start', 'min'), last_title_date=('reign_end', 'max'))\n",
    "    .reset_index()\n",
    ")\n",
    "career_span['career_span_days'] = (career_span['last_title_date'] - career_span['first_title_date']).dt.days\n",
    "\n",
    "total_titles = df.groupby('name')['belt'].nunique()\n",
    "total_reigns = df.groupby('name')['belt'].count()\n",
    "avg_reigns_per_title = (total_reigns / total_titles).reset_index(name='avg_reigns_per_title')\n",
    "\n",
    "# Merge everything\n",
    "summary = summary.merge(title_diversity, on='name', how='left')\n",
    "summary = summary.merge(avg_gap, on='name', how='left')\n",
    "summary = summary.merge(career_span[['name', 'career_span_days']], on='name', how='left')\n",
    "summary = summary.merge(avg_reigns_per_title, on='name', how='left')\n",
    "\n",
    "# Round numeric values\n",
    "summary['average_reign_duration'] = summary['average_reign_duration'].round(1)\n",
    "summary['avg_gap_between_reigns'] = summary['avg_gap_between_reigns'].round(1)\n",
    "summary['avg_reigns_per_title'] = summary['avg_reigns_per_title'].round(2)\n",
    "\n",
    "# Save to CSV\n",
    "summary.to_csv('cleaned_wrestling_data.csv', index=False)\n",
    "\n",
    "print(\"Data cleaned and saved to 'cleaned_wrestling_data.csv'\")\n",
    "\n"
   ]
  }
 ],
 "metadata": {
  "kernelspec": {
   "display_name": "Python 3",
   "language": "python",
   "name": "python3"
  },
  "language_info": {
   "codemirror_mode": {
    "name": "ipython",
    "version": 3
   },
   "file_extension": ".py",
   "mimetype": "text/x-python",
   "name": "python",
   "nbconvert_exporter": "python",
   "pygments_lexer": "ipython3",
   "version": "3.13.2"
  }
 },
 "nbformat": 4,
 "nbformat_minor": 5
}
